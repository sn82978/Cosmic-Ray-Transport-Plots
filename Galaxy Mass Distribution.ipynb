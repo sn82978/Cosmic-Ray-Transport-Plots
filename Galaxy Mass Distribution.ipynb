{
 "cells": [
  {
   "cell_type": "code",
   "execution_count": 20,
   "id": "genuine-adelaide",
   "metadata": {},
   "outputs": [],
   "source": [
    "%matplotlib inline\n",
    "import matplotlib.pyplot as plt\n",
    "plt.style.use('seaborn-whitegrid')\n",
    "import numpy as np\n",
    "import pandas as pd\n",
    "data = pd.read_csv(\"/Users/Astronomer/Desktop/Dark Matter & Galaxies/Dark Matter Galaxy Data - DM 2.csv\")"
   ]
  },
  {
   "cell_type": "code",
   "execution_count": 24,
   "id": "becoming-permit",
   "metadata": {},
   "outputs": [],
   "source": [
    "def galaxy_mass(R,V,i):\n",
    "    numerator = (2.33*(1e5))*(R)*(np.power(V, 2))\n",
    "    denominator = (np.power(np.sin(i), 2))\n",
    "    return numerator/denominator"
   ]
  },
  {
   "cell_type": "code",
   "execution_count": 25,
   "id": "difficult-plaza",
   "metadata": {},
   "outputs": [],
   "source": [
    "R_eff = data['Effective Radius at [3.6]']\n",
    "V_obs = data['Asymptotically Flat Rotation Velocity']\n",
    "inclination = data['Inclination']\n",
    "G = data['Galaxy Name']"
   ]
  },
  {
   "cell_type": "code",
   "execution_count": 30,
   "id": "accepted-christianity",
   "metadata": {},
   "outputs": [
    {
     "data": {
      "text/plain": [
       "<matplotlib.collections.PathCollection at 0x11d200b38>"
      ]
     },
     "execution_count": 30,
     "metadata": {},
     "output_type": "execute_result"
    },
    {
     "data": {
      "image/png": "[encoded data removed]",
      "text/plain": [
       "<Figure size 432x288 with 1 Axes>"
      ]
     },
     "metadata": {},
     "output_type": "display_data"
    }
   ],
   "source": [
    "y = galaxy_mass(R_eff, V_obs, inclination)\n",
    "plt.scatter(R_eff, y, s = 20, alpha = 0.6, edgecolor = 'black', linewidth = 1)"
   ]
  },
  {
   "cell_type": "code",
   "execution_count": null,
   "id": "planned-torture",
   "metadata": {},
   "outputs": [],
   "source": []
  }
 ],
 "metadata": {
  "kernelspec": {
   "display_name": "Python 3",
   "language": "python",
   "name": "python3"
  },
  "language_info": {
   "codemirror_mode": {
    "name": "ipython",
    "version": 3
   },
   "file_extension": ".py",
   "mimetype": "text/x-python",
   "name": "python",
   "nbconvert_exporter": "python",
   "pygments_lexer": "ipython3",
   "version": "3.6.12"
  }
 },
 "nbformat": 4,
 "nbformat_minor": 5
}
